{
 "cells": [
  {
   "cell_type": "code",
   "execution_count": null,
   "id": "804905fe",
   "metadata": {},
   "outputs": [
    {
     "ename": "SyntaxError",
     "evalue": "invalid syntax (4029630109.py, line 5)",
     "output_type": "error",
     "traceback": [
      "\u001b[1;36m  Cell \u001b[1;32mIn[31], line 5\u001b[1;36m\u001b[0m\n\u001b[1;33m    def __init__(self, argumentos/parametros):\u001b[0m\n\u001b[1;37m                                 ^\u001b[0m\n\u001b[1;31mSyntaxError\u001b[0m\u001b[1;31m:\u001b[0m invalid syntax\n"
     ]
    }
   ],
   "source": [
    "# 1 Crear una clase\n",
    "#argumentos/atributos: características que tiene un objeto\n",
    "\n",
    "class nombre:\n",
    "    def __init__(self,parametros):"
   ]
  },
  {
   "cell_type": "code",
   "execution_count": 2,
   "id": "273ee6df",
   "metadata": {},
   "outputs": [],
   "source": [
    "class TiendaOnline:\n",
    "    def __init__(self):\n",
    "        self.inventario = [] #lista vacia\n",
    "        self.ventas_totales = 0.0 ,#añado un decimal porque es float\n"
   ]
  },
  {
   "cell_type": "code",
   "execution_count": 3,
   "id": "0559b697",
   "metadata": {},
   "outputs": [],
   "source": [
    "producto1 = {'Nombre': 'Camisa', 'precio': 20, 'cantidad': 40}\n",
    "producto2 = {'Nombre': 'Pantalón', 'precio': 30, 'cantidad': 30}"
   ]
  },
  {
   "cell_type": "code",
   "execution_count": 4,
   "id": "9d93b5d0",
   "metadata": {},
   "outputs": [
    {
     "name": "stdout",
     "output_type": "stream",
     "text": [
      "<__main__.TiendaOnline object at 0x0000023C66BC0650>\n"
     ]
    }
   ],
   "source": [
    "inventario = [producto1, producto2]\n",
    "inventario\n",
    "TiendaOnline\n",
    "\n",
    "mitienda=TiendaOnline()\n",
    "print(mitienda)"
   ]
  },
  {
   "cell_type": "markdown",
   "id": "7848cdb9",
   "metadata": {},
   "source": [
    " La clase TiendaOnline debe tener los siguientes métodos:\n",
    "\n",
    " *Agregar_producto(self, nombre, precio, cantidad): Este método agrega un producto al\n",
    " inventario o actualiza su cantidad si ya existe. Debe recibir el nombre, precio y cantidad del producto\n",
    " como parámetros.\n",
    "\n",
    " -Itera a través del inventario y compara los nombres de los productos con el nombre\n",
    " proporcionado.\n",
    "\n",
    " -Si el producto ya existe, actualiza la cantidad.\n",
    " \n",
    " -Si no existe, agrega un nuevo producto al inventario."
   ]
  },
  {
   "cell_type": "code",
   "execution_count": 8,
   "id": "6e5a2e73",
   "metadata": {},
   "outputs": [],
   "source": [
    "class TiendaOnline:\n",
    "    def __init__(self): \n",
    "        self.inventario = [] \n",
    "        self.ventas_totales = 0.0 \n",
    "\n",
    "    def agregar_producto(self, nombre, precio, cantidad):\n",
    "        #itera a traves del inventario y compara los nombres por lo tanto uso bucle for\n",
    "        for producto in self.inventario:\n",
    "            #si producto ya existe\n",
    "            if producto['Nombre'] == nombre:\n",
    "                #actualiza la cantidad\n",
    "                producto['cantidad'] += cantidad\n",
    "                return\n",
    "            \n",
    "            #Si no existe, agrega un nuevo producto al inventario (defino primero la variable como dicc añadiendo los atributos de los otros productos)\n",
    "\n",
    "        nuevo_producto = {'Nombre': nombre, 'precio': precio, 'cantidad': cantidad}\n",
    "        #hay q añadirlo al diccionario\n",
    "        self.inventario.append(nuevo_producto)\n"
   ]
  },
  {
   "cell_type": "code",
   "execution_count": 17,
   "id": "02430496",
   "metadata": {},
   "outputs": [
    {
     "name": "stdout",
     "output_type": "stream",
     "text": [
      "<__main__.TiendaOnline object at 0x00000264671001A0>\n"
     ]
    }
   ],
   "source": [
    "mitienda=TiendaOnline()\n",
    "print(mitienda)"
   ]
  },
  {
   "cell_type": "markdown",
   "id": "065477cc",
   "metadata": {},
   "source": [
    "como en el ejercicio n2 me piden ver inventario y aparece 1 producto nuevo y otro actualizado, en este tengo q actualizarlo antes de pasar al 2 agregando zapatos y actualizando la cantidad de camisas"
   ]
  },
  {
   "cell_type": "code",
   "execution_count": 21,
   "id": "30466c60",
   "metadata": {},
   "outputs": [],
   "source": [
    "mitienda.agregar_producto(\"Camisa\", 20, 50)"
   ]
  },
  {
   "cell_type": "code",
   "execution_count": 23,
   "id": "3c6b70d3",
   "metadata": {},
   "outputs": [],
   "source": [
    "mitienda.agregar_producto(\"Zapatos\", 50.0, 40)"
   ]
  },
  {
   "cell_type": "code",
   "execution_count": null,
   "id": "89380f4a",
   "metadata": {},
   "outputs": [],
   "source": [
    "\n",
    "class TiendaOnline:\n",
    "    def __init__(self, inventario, ventas_totales):\n",
    "        self.inventario = [] #lista vacia\n",
    "        self.ventas_totales = 0.0 #float\n",
    "\n",
    "#1.1. añadimos primer método con los parametros indicados\n",
    "    def agregar_producto(self, nombre, precio, cantidad):\n",
    "        for producto in self.inventario: #bucle for porque quiere comparar los prductos del diccionario\n",
    "            if producto['nombre'] == nombre:\n",
    "            #si ya existe, le sumamos uno a la cantidad para que se actualize\n",
    "                producto['cantidad'] += cantidad\n",
    "                return\n",
    "            \n",
    "            elif producto['nombre'] != nombre: #Si no existe, agregamos un nuevo producto al inventario\n",
    "                self.inventario.append(nuevo_producto) \n",
    "                # Imprime un mensaje de éxito con el nombre del producto\n",
    "                print(f\"El producto '{nombre}' agregado al inventario.\")\n",
    "\n",
    "\n",
    "#1.2. segundo método (bucle for, imprimir nombre, precio, cantidad)\n",
    "    def ver_inventario(self):\n",
    "        self.inventario \n",
    "        for producto in self.inventario.items():#error, ya q inventario no tiene ITEMS,, es una lista\n",
    "            \n",
    "\n",
    "        return inventario\n",
    "        "
   ]
  },
  {
   "cell_type": "code",
   "execution_count": 2,
   "id": "2994d4af",
   "metadata": {},
   "outputs": [],
   "source": [
    "    def agregar_producto(self, nombre, precio, cantidad):\n",
    "        for producto in self.inventario: #bucle for porque quiere comparar los prductos del diccionario\n",
    "            if producto['nombre'] == nombre:\n",
    "            #si ya existe, le sumamos uno a la cantidad para que se actualize\n",
    "                producto['cantidad'] += cantidad\n",
    "                return\n",
    "            \n",
    "            elif producto['nombre'] != nombre: #Si no existe, agregamos un nuevo producto al inventario\n",
    "                self.inventario.append(nuevo_producto) \n",
    "                # Imprime un mensaje de éxito con el nombre del producto\n",
    "                print(f\"Producto '{nombre}' agregado con éxito al inventario.\")\n",
    "    \n",
    "#zapatillas\n",
    "nuevo_producto = [{\"nombre\": \"\", \"precio\":\"\", \"cantidad\":\"\"}]"
   ]
  },
  {
   "cell_type": "code",
   "execution_count": 15,
   "id": "169a34da",
   "metadata": {},
   "outputs": [
    {
     "name": "stdout",
     "output_type": "stream",
     "text": [
      "[{'Nombre': 'Zapatos', 'precio': 50, 'cantidad': 120}, {'Nombre': 'Camisa', 'precio': 20, 'cantidad': 200}, {'Nombre': 'Pantalón', 'precio': 30, 'cantidad': 60}, {'Nombre': ('Camisa', 20, 50), 'precio': ('Pantalón', 30, 30), 'cantidad': ('Zapatos', 50, 40)}]\n"
     ]
    }
   ],
   "source": [
    "mitienda.agregar_producto(\"Camisa\", 20, 50)\n",
    "mitienda.agregar_producto(\"Pantalón\", 30, 30)\n",
    "mitienda.agregar_producto(\"Zapatos\", 50, 40)\n",
    "mitienda.agregar_producto(\"Camisa\", 20, 50)\n",
    "\n",
    "print(mitienda.inventario)"
   ]
  },
  {
   "cell_type": "code",
   "execution_count": 5,
   "id": "82077e87",
   "metadata": {},
   "outputs": [
    {
     "ename": "NameError",
     "evalue": "name 'mitienda' is not defined",
     "output_type": "error",
     "traceback": [
      "\u001b[1;31m---------------------------------------------------------------------------\u001b[0m",
      "\u001b[1;31mNameError\u001b[0m                                 Traceback (most recent call last)",
      "Cell \u001b[1;32mIn[5], line 1\u001b[0m\n\u001b[1;32m----> 1\u001b[0m mitienda\u001b[38;5;241m.\u001b[39magregar_producto(\u001b[38;5;124m\"\u001b[39m\u001b[38;5;124mCacahuetes\u001b[39m\u001b[38;5;124m\"\u001b[39m, \u001b[38;5;241m5\u001b[39m, \u001b[38;5;241m10\u001b[39m)\n",
      "\u001b[1;31mNameError\u001b[0m: name 'mitienda' is not defined"
     ]
    }
   ],
   "source": [
    "mitienda.agregar_producto(\"Cacahuetes\", 5, 10)"
   ]
  },
  {
   "cell_type": "code",
   "execution_count": 6,
   "id": "73c47e9b",
   "metadata": {},
   "outputs": [],
   "source": [
    " def agregar_producto(self, nombre, precio, cantidad): \n",
    "    for producto in self.inventario:\n",
    "        if nombre in self.inventario.keys(): \n",
    "        #falta anadir uno\n",
    "            producto['cantidad'] += cantidad\n",
    "            return \"El producto está\"\n",
    "        \n",
    "    else: \n",
    "        self.inventario[nombre] = [nombre, precio, cantidad] \n",
    "        print (\"El producto no está\")"
   ]
  },
  {
   "cell_type": "code",
   "execution_count": 7,
   "id": "1cc86a2c",
   "metadata": {},
   "outputs": [
    {
     "ename": "IndentationError",
     "evalue": "unexpected indent (4149815803.py, line 2)",
     "output_type": "error",
     "traceback": [
      "\u001b[1;36m  Cell \u001b[1;32mIn[7], line 2\u001b[1;36m\u001b[0m\n\u001b[1;33m    def agregar_producto(self, nombre, precio, cantidad):\u001b[0m\n\u001b[1;37m    ^\u001b[0m\n\u001b[1;31mIndentationError\u001b[0m\u001b[1;31m:\u001b[0m unexpected indent\n"
     ]
    }
   ],
   "source": [
    "#1.1. añadimos primer método con los parametros indicados\n",
    "    def agregar_producto(self, nombre, precio, cantidad):\n",
    "    for nombre in self.inventario:\n",
    "        if nombre == "
   ]
  },
  {
   "cell_type": "code",
   "execution_count": 8,
   "id": "f7ea5b0b",
   "metadata": {},
   "outputs": [
    {
     "data": {
      "text/plain": [
       "mappingproxy({'__module__': '__main__',\n",
       "              '__init__': <function __main__.TiendaOnline.__init__(self, inventario, ventas_totales)>,\n",
       "              'agregar_producto': <function __main__.TiendaOnline.agregar_producto(self, nombre, precio, cantidad)>,\n",
       "              'ver_inventario': <function __main__.TiendaOnline.ver_inventario(self)>,\n",
       "              '__dict__': <attribute '__dict__' of 'TiendaOnline' objects>,\n",
       "              '__weakref__': <attribute '__weakref__' of 'TiendaOnline' objects>,\n",
       "              '__doc__': None})"
      ]
     },
     "execution_count": 8,
     "metadata": {},
     "output_type": "execute_result"
    }
   ],
   "source": [
    "TiendaOnline.__dict__"
   ]
  },
  {
   "cell_type": "code",
   "execution_count": 9,
   "id": "3b862481",
   "metadata": {},
   "outputs": [],
   "source": [
    "class TiendaOnline:\n",
    "    def __init__(self):\n",
    "        self.inventario = []\n",
    "        self.ventas_totales = 0.0\n",
    "\n",
    "    def agregar_producto(self, nombre, precio, cantidad):\n",
    "        for producto in self.inventario:\n",
    "            if producto['nombre'] == nombre:\n",
    "                producto['cantidad'] += cantidad\n",
    "                return\n",
    "        nuevo_producto = {'nombre': nombre, 'precio': f'${precio}', 'cantidad': cantidad}\n",
    "        self.inventario.append(nuevo_producto)\n",
    "\n",
    "    def ver_inventario(self):\n",
    "        for producto in self.inventario:\n",
    "            print(producto)"
   ]
  },
  {
   "cell_type": "code",
   "execution_count": 10,
   "id": "38f548ca",
   "metadata": {},
   "outputs": [
    {
     "name": "stdout",
     "output_type": "stream",
     "text": [
      "{'nombre': 'Camisa', 'precio': '$20', 'cantidad': 50}\n",
      "{'nombre': 'Pantalón', 'precio': '$30', 'cantidad': 30}\n",
      "{'nombre': 'Zapatos', 'precio': '$50', 'cantidad': 40}\n"
     ]
    }
   ],
   "source": [
    "mitienda = TiendaOnline() \n",
    "mitienda.agregar_producto(\"Camisa\", 20, 50)\n",
    "mitienda.agregar_producto(\"Pantalón\", 30, 30)\n",
    "mitienda.agregar_producto(\"Zapatos\", 50, 40)\n",
    "\n",
    "mitienda.ver_inventario()"
   ]
  },
  {
   "cell_type": "code",
   "execution_count": 11,
   "id": "295e1aa1",
   "metadata": {},
   "outputs": [
    {
     "name": "stdout",
     "output_type": "stream",
     "text": [
      "{'nombre': 'Camisa', 'precio': '$20', 'cantidad': 50}\n",
      "{'nombre': 'Pantalón', 'precio': '$30', 'cantidad': 30}\n",
      "{'nombre': 'Zapatos', 'precio': '$50', 'cantidad': 40}\n",
      "{'nombre': 'Cacahuetes', 'precio': '$5', 'cantidad': 10}\n"
     ]
    }
   ],
   "source": [
    "mitienda.agregar_producto(\"Cacahuetes\", 5, 10)\n",
    "mitienda.ver_inventario()"
   ]
  },
  {
   "cell_type": "code",
   "execution_count": 12,
   "id": "addb1a36",
   "metadata": {},
   "outputs": [],
   "source": [
    "#pero ahora tengo q repetir el de las camisas, siendo igual"
   ]
  },
  {
   "cell_type": "code",
   "execution_count": 13,
   "id": "30ea084f",
   "metadata": {},
   "outputs": [
    {
     "name": "stdout",
     "output_type": "stream",
     "text": [
      "{'nombre': 'Camisa', 'precio': '$20', 'cantidad': 100}\n",
      "{'nombre': 'Pantalón', 'precio': '$30', 'cantidad': 30}\n",
      "{'nombre': 'Zapatos', 'precio': '$50', 'cantidad': 40}\n",
      "{'nombre': 'Cacahuetes', 'precio': '$5', 'cantidad': 10}\n"
     ]
    }
   ],
   "source": [
    "mitienda.agregar_producto(\"Camisa\", 20, 50)\n",
    "mitienda.ver_inventario()"
   ]
  },
  {
   "cell_type": "code",
   "execution_count": null,
   "id": "dea37944",
   "metadata": {},
   "outputs": [],
   "source": []
  }
 ],
 "metadata": {
  "kernelspec": {
   "display_name": "base",
   "language": "python",
   "name": "python3"
  },
  "language_info": {
   "codemirror_mode": {
    "name": "ipython",
    "version": 3
   },
   "file_extension": ".py",
   "mimetype": "text/x-python",
   "name": "python",
   "nbconvert_exporter": "python",
   "pygments_lexer": "ipython3",
   "version": "3.12.7"
  }
 },
 "nbformat": 4,
 "nbformat_minor": 5
}
