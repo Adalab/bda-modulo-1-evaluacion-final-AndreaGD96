{
 "cells": [
  {
   "cell_type": "code",
   "execution_count": 1,
   "id": "804905fe",
   "metadata": {},
   "outputs": [
    {
     "ename": "SyntaxError",
     "evalue": "incomplete input (3717378798.py, line 5)",
     "output_type": "error",
     "traceback": [
      "\u001b[1;36m  Cell \u001b[1;32mIn[1], line 5\u001b[1;36m\u001b[0m\n\u001b[1;33m    def __init__(self,parametros):\u001b[0m\n\u001b[1;37m                                  ^\u001b[0m\n\u001b[1;31mSyntaxError\u001b[0m\u001b[1;31m:\u001b[0m incomplete input\n"
     ]
    }
   ],
   "source": [
    "# 1 Crear una clase\n",
    "#argumentos/atributos: características que tiene un objeto\n",
    "\n",
    "class nombre:\n",
    "    def __init__(self,parametros):"
   ]
  },
  {
   "cell_type": "code",
   "execution_count": null,
   "id": "273ee6df",
   "metadata": {},
   "outputs": [],
   "source": [
    "class TiendaOnline:\n",
    "    def __init__(self):\n",
    "        self.inventario = [] #lista vacia\n",
    "        self.ventas_totales = 0.0 ,#añado un decimal porque es float\n"
   ]
  },
  {
   "cell_type": "code",
   "execution_count": null,
   "id": "0559b697",
   "metadata": {},
   "outputs": [],
   "source": [
    "producto1 = {'Nombre': 'Camisa', 'precio': 20, 'cantidad': 40}\n",
    "producto2 = {'Nombre': 'Pantalón', 'precio': 30, 'cantidad': 30}"
   ]
  },
  {
   "cell_type": "code",
   "execution_count": null,
   "id": "9d93b5d0",
   "metadata": {},
   "outputs": [
    {
     "name": "stdout",
     "output_type": "stream",
     "text": [
      "<__main__.TiendaOnline object at 0x0000023C66BC0650>\n"
     ]
    }
   ],
   "source": [
    "inventario = [producto1, producto2]\n",
    "inventario\n",
    "TiendaOnline\n",
    "\n",
    "mitienda=TiendaOnline()\n",
    "print(mitienda)"
   ]
  },
  {
   "cell_type": "markdown",
   "id": "7848cdb9",
   "metadata": {},
   "source": [
    " La clase TiendaOnline debe tener los siguientes métodos:\n",
    "\n",
    " *Agregar_producto(self, nombre, precio, cantidad): Este método agrega un producto al\n",
    " inventario o actualiza su cantidad si ya existe. Debe recibir el nombre, precio y cantidad del producto\n",
    " como parámetros.\n",
    "\n",
    " -Itera a través del inventario y compara los nombres de los productos con el nombre\n",
    " proporcionado.\n",
    "\n",
    " -Si el producto ya existe, actualiza la cantidad.\n",
    " \n",
    " -Si no existe, agrega un nuevo producto al inventario."
   ]
  },
  {
   "cell_type": "code",
   "execution_count": null,
   "id": "6e5a2e73",
   "metadata": {},
   "outputs": [],
   "source": [
    "class TiendaOnline:\n",
    "    def __init__(self): \n",
    "        self.inventario = [] \n",
    "        self.ventas_totales = 0.0 \n",
    "\n",
    "    def agregar_producto(self, nombre, precio, cantidad):\n",
    "        #itera a traves del inventario y compara los nombres por lo tanto uso bucle for\n",
    "        for producto in self.inventario:\n",
    "            #si producto ya existe\n",
    "            if producto['Nombre'] == nombre:\n",
    "                #actualiza la cantidad\n",
    "                producto['cantidad'] += cantidad\n",
    "                return\n",
    "            \n",
    "            #Si no existe, agrega un nuevo producto al inventario (defino primero la variable como dicc añadiendo los atributos de los otros productos)\n",
    "\n",
    "        nuevo_producto = {'Nombre': nombre, 'precio': precio, 'cantidad': cantidad}\n",
    "        #hay q añadirlo al diccionario\n",
    "        self.inventario.append(nuevo_producto)\n"
   ]
  },
  {
   "cell_type": "code",
   "execution_count": null,
   "id": "02430496",
   "metadata": {},
   "outputs": [
    {
     "name": "stdout",
     "output_type": "stream",
     "text": [
      "<__main__.TiendaOnline object at 0x00000264671001A0>\n"
     ]
    }
   ],
   "source": [
    "mitienda=TiendaOnline()\n",
    "print(mitienda)"
   ]
  },
  {
   "cell_type": "markdown",
   "id": "065477cc",
   "metadata": {},
   "source": [
    "como en el ejercicio n2 me piden ver inventario y aparece 1 producto nuevo y otro actualizado, en este tengo q actualizarlo antes de pasar al 2 agregando zapatos y actualizando la cantidad de camisas"
   ]
  },
  {
   "cell_type": "code",
   "execution_count": null,
   "id": "30466c60",
   "metadata": {},
   "outputs": [],
   "source": [
    "mitienda.agregar_producto(\"Camisa\", 20, 50)"
   ]
  },
  {
   "cell_type": "code",
   "execution_count": null,
   "id": "3c6b70d3",
   "metadata": {},
   "outputs": [],
   "source": [
    "mitienda.agregar_producto(\"Zapatos\", 50.0, 40)"
   ]
  },
  {
   "cell_type": "code",
   "execution_count": null,
   "id": "89380f4a",
   "metadata": {},
   "outputs": [],
   "source": [
    "\n",
    "class TiendaOnline:\n",
    "    def __init__(self, inventario, ventas_totales):\n",
    "        self.inventario = [] #lista vacia\n",
    "        self.ventas_totales = 0.0 #float\n",
    "\n",
    "#1.1. añadimos primer método con los parametros indicados\n",
    "    def agregar_producto(self, nombre, precio, cantidad):\n",
    "        for producto in self.inventario: #bucle for porque quiere comparar los prductos del diccionario\n",
    "            if producto['nombre'] == nombre:\n",
    "            #si ya existe, le sumamos uno a la cantidad para que se actualize\n",
    "                producto['cantidad'] += cantidad\n",
    "                return\n",
    "            \n",
    "            elif producto['nombre'] != nombre: #Si no existe, agregamos un nuevo producto al inventario\n",
    "                self.inventario.append(nuevo_producto) \n",
    "                # Imprime un mensaje de éxito con el nombre del producto\n",
    "                print(f\"El producto '{nombre}' agregado al inventario.\")\n",
    "\n",
    "\n",
    "#1.2. segundo método (bucle for, imprimir nombre, precio, cantidad)\n",
    "    def ver_inventario(self):\n",
    "        self.inventario \n",
    "        for producto in self.inventario.items():#error, ya q inventario no tiene ITEMS,, es una lista\n",
    "            \n",
    "\n",
    "        return inventario\n",
    "        "
   ]
  },
  {
   "cell_type": "code",
   "execution_count": null,
   "id": "2994d4af",
   "metadata": {},
   "outputs": [],
   "source": [
    "    def agregar_producto(self, nombre, precio, cantidad):\n",
    "        for producto in self.inventario: #bucle for porque quiere comparar los prductos del diccionario\n",
    "            if producto['nombre'] == nombre:\n",
    "            #si ya existe, le sumamos uno a la cantidad para que se actualize\n",
    "                producto['cantidad'] += cantidad\n",
    "                return\n",
    "            \n",
    "            elif producto['nombre'] != nombre: #Si no existe, agregamos un nuevo producto al inventario\n",
    "                self.inventario.append(nuevo_producto) \n",
    "                # Imprime un mensaje de éxito con el nombre del producto\n",
    "                print(f\"Producto '{nombre}' agregado con éxito al inventario.\")\n",
    "    \n",
    "#zapatillas\n",
    "nuevo_producto = [{\"nombre\": \"\", \"precio\":\"\", \"cantidad\":\"\"}]"
   ]
  },
  {
   "cell_type": "code",
   "execution_count": null,
   "id": "169a34da",
   "metadata": {},
   "outputs": [
    {
     "name": "stdout",
     "output_type": "stream",
     "text": [
      "[{'Nombre': 'Zapatos', 'precio': 50, 'cantidad': 120}, {'Nombre': 'Camisa', 'precio': 20, 'cantidad': 200}, {'Nombre': 'Pantalón', 'precio': 30, 'cantidad': 60}, {'Nombre': ('Camisa', 20, 50), 'precio': ('Pantalón', 30, 30), 'cantidad': ('Zapatos', 50, 40)}]\n"
     ]
    }
   ],
   "source": [
    "mitienda.agregar_producto(\"Camisa\", 20, 50)\n",
    "mitienda.agregar_producto(\"Pantalón\", 30, 30)\n",
    "mitienda.agregar_producto(\"Zapatos\", 50, 40)\n",
    "mitienda.agregar_producto(\"Camisa\", 20, 50)\n",
    "\n",
    "print(mitienda.inventario)"
   ]
  },
  {
   "cell_type": "markdown",
   "id": "d6489db7",
   "metadata": {},
   "source": [
    "intentar q me de el resultado no en dicc cambiando el print poducto"
   ]
  },
  {
   "cell_type": "code",
   "execution_count": null,
   "id": "82077e87",
   "metadata": {},
   "outputs": [
    {
     "ename": "NameError",
     "evalue": "name 'mitienda' is not defined",
     "output_type": "error",
     "traceback": [
      "\u001b[1;31m---------------------------------------------------------------------------\u001b[0m",
      "\u001b[1;31mNameError\u001b[0m                                 Traceback (most recent call last)",
      "Cell \u001b[1;32mIn[5], line 1\u001b[0m\n\u001b[1;32m----> 1\u001b[0m mitienda\u001b[38;5;241m.\u001b[39magregar_producto(\u001b[38;5;124m\"\u001b[39m\u001b[38;5;124mCacahuetes\u001b[39m\u001b[38;5;124m\"\u001b[39m, \u001b[38;5;241m5\u001b[39m, \u001b[38;5;241m10\u001b[39m)\n",
      "\u001b[1;31mNameError\u001b[0m: name 'mitienda' is not defined"
     ]
    }
   ],
   "source": [
    "mitienda.agregar_producto(\"Cacahuetes\", 5, 10)"
   ]
  },
  {
   "cell_type": "code",
   "execution_count": null,
   "id": "73c47e9b",
   "metadata": {},
   "outputs": [],
   "source": [
    " def agregar_producto(self, nombre, precio, cantidad): \n",
    "    for producto in self.inventario:\n",
    "        if nombre in self.inventario.keys(): \n",
    "        #falta anadir uno\n",
    "            producto['cantidad'] += cantidad\n",
    "            return \"El producto está\"\n",
    "        \n",
    "    else: \n",
    "        self.inventario[nombre] = [nombre, precio, cantidad] \n",
    "        print (\"El producto no está\")"
   ]
  },
  {
   "cell_type": "code",
   "execution_count": null,
   "id": "1cc86a2c",
   "metadata": {},
   "outputs": [
    {
     "ename": "IndentationError",
     "evalue": "unexpected indent (4149815803.py, line 2)",
     "output_type": "error",
     "traceback": [
      "\u001b[1;36m  Cell \u001b[1;32mIn[7], line 2\u001b[1;36m\u001b[0m\n\u001b[1;33m    def agregar_producto(self, nombre, precio, cantidad):\u001b[0m\n\u001b[1;37m    ^\u001b[0m\n\u001b[1;31mIndentationError\u001b[0m\u001b[1;31m:\u001b[0m unexpected indent\n"
     ]
    }
   ],
   "source": [
    "#1.1. añadimos primer método con los parametros indicados\n",
    "    def agregar_producto(self, nombre, precio, cantidad):\n",
    "    for nombre in self.inventario:\n",
    "        if nombre == "
   ]
  },
  {
   "cell_type": "code",
   "execution_count": null,
   "id": "f7ea5b0b",
   "metadata": {},
   "outputs": [
    {
     "data": {
      "text/plain": [
       "mappingproxy({'__module__': '__main__',\n",
       "              '__init__': <function __main__.TiendaOnline.__init__(self, inventario, ventas_totales)>,\n",
       "              'agregar_producto': <function __main__.TiendaOnline.agregar_producto(self, nombre, precio, cantidad)>,\n",
       "              'ver_inventario': <function __main__.TiendaOnline.ver_inventario(self)>,\n",
       "              '__dict__': <attribute '__dict__' of 'TiendaOnline' objects>,\n",
       "              '__weakref__': <attribute '__weakref__' of 'TiendaOnline' objects>,\n",
       "              '__doc__': None})"
      ]
     },
     "execution_count": 8,
     "metadata": {},
     "output_type": "execute_result"
    }
   ],
   "source": [
    "TiendaOnline.__dict__"
   ]
  },
  {
   "cell_type": "markdown",
   "id": "6c83647c",
   "metadata": {},
   "source": [
    "*check el $ del print nuevo producto"
   ]
  },
  {
   "cell_type": "code",
   "execution_count": null,
   "id": "3b862481",
   "metadata": {},
   "outputs": [],
   "source": [
    "class TiendaOnline:\n",
    "    def __init__(self):\n",
    "        self.inventario = []\n",
    "        self.ventas_totales = 0.0\n",
    "\n",
    "    def agregar_producto(self, nombre, precio, cantidad):\n",
    "        for producto in self.inventario:\n",
    "            if producto['nombre'] == nombre:\n",
    "                producto['cantidad'] += cantidad\n",
    "                return\n",
    "        nuevo_producto = {'nombre': nombre, 'precio': f'${precio}', 'cantidad': cantidad}\n",
    "        self.inventario.append(nuevo_producto)\n",
    "\n",
    "    def ver_inventario(self):\n",
    "        for producto in self.inventario:\n",
    "            print(producto)"
   ]
  },
  {
   "cell_type": "code",
   "execution_count": 2,
   "id": "38f548ca",
   "metadata": {},
   "outputs": [
    {
     "name": "stdout",
     "output_type": "stream",
     "text": [
      "{'nombre': 'Camisa', 'precio': '$20', 'cantidad': 50}\n",
      "{'nombre': 'Pantalón', 'precio': '$30', 'cantidad': 30}\n",
      "{'nombre': 'Zapatos', 'precio': '$50', 'cantidad': 40}\n"
     ]
    }
   ],
   "source": [
    "mitienda = TiendaOnline() \n",
    "mitienda.agregar_producto(\"Camisa\", 20, 50)\n",
    "mitienda.agregar_producto(\"Pantalón\", 30, 30)\n",
    "mitienda.agregar_producto(\"Zapatos\", 50, 40)\n",
    "\n",
    "mitienda.ver_inventario()"
   ]
  },
  {
   "cell_type": "code",
   "execution_count": null,
   "id": "94414051",
   "metadata": {},
   "outputs": [],
   "source": []
  },
  {
   "cell_type": "code",
   "execution_count": null,
   "id": "addb1a36",
   "metadata": {},
   "outputs": [],
   "source": [
    "#pero ahora tengo q repetir el de las camisas, siendo igual"
   ]
  },
  {
   "cell_type": "code",
   "execution_count": 5,
   "id": "30ea084f",
   "metadata": {},
   "outputs": [
    {
     "name": "stdout",
     "output_type": "stream",
     "text": [
      "{'nombre': 'Camisa', 'precio': '$20', 'cantidad': 100}\n",
      "{'nombre': 'Pantalón', 'precio': '$30', 'cantidad': 30}\n",
      "{'nombre': 'Zapatos', 'precio': '$50', 'cantidad': 40}\n"
     ]
    }
   ],
   "source": [
    "mitienda.agregar_producto(\"Camisa\", 20, 50)\n",
    "mitienda.ver_inventario()"
   ]
  },
  {
   "cell_type": "code",
   "execution_count": null,
   "id": "dea37944",
   "metadata": {},
   "outputs": [
    {
     "ename": "SyntaxError",
     "evalue": "illegal target for annotation (4262985536.py, line 1)",
     "output_type": "error",
     "traceback": [
      "\u001b[1;36m  Cell \u001b[1;32mIn[7], line 1\u001b[1;36m\u001b[0m\n\u001b[1;33m    buscar_producto(self, nombre): Busca un producto en el inventario por nombre y muestra sus\u001b[0m\n\u001b[1;37m    ^\u001b[0m\n\u001b[1;31mSyntaxError\u001b[0m\u001b[1;31m:\u001b[0m illegal target for annotation\n"
     ]
    }
   ],
   "source": [
    "buscar_producto(self, nombre): Busca un producto en el inventario por nombre y muestra sus\n",
    " detalles si se encuentra. Debe recibir el nombre del producto como parámetro.\n",
    "-Utiliza un bucle for para recorrer el inventario.\n",
    "-Compara los nombres de los productos con el nombre proporcionado.\n",
    "-Si se encuentra el producto, imprime sus detalles"
   ]
  },
  {
   "cell_type": "code",
   "execution_count": 6,
   "id": "c32127c3",
   "metadata": {},
   "outputs": [],
   "source": [
    "class TiendaOnline:\n",
    "    def __init__(self):\n",
    "        self.inventario = []\n",
    "        self.ventas_totales = 0.0\n",
    "\n",
    "    def agregar_producto(self, nombre, precio, cantidad):\n",
    "        for producto in self.inventario:\n",
    "            if producto['nombre'] == nombre:\n",
    "                producto['cantidad'] += cantidad\n",
    "                return\n",
    "        nuevo_producto = {'nombre': nombre, 'precio': f'${precio}', 'cantidad': cantidad}\n",
    "        self.inventario.append(nuevo_producto)\n",
    "\n",
    "    def ver_inventario(self):\n",
    "        for producto in self.inventario:\n",
    "            print(producto)\n",
    "\n",
    "    #voyxaqui\n",
    "    def buscar_producto(self, nombre):\n",
    "        for producto in self.inventario:\n",
    "            if producto['nombre'] == nombre:\n",
    "                print(producto)\n",
    "                return\n",
    "        else:\n",
    "            print(\"El producto no se encuentra en el inventario\")"
   ]
  },
  {
   "cell_type": "code",
   "execution_count": null,
   "id": "06a6dc4f",
   "metadata": {},
   "outputs": [],
   "source": [
    "class TiendaOnline:\n",
    "    def __init__(self):\n",
    "        self.inventario = []\n",
    "        self.ventas_totales = 0.0\n",
    "\n",
    "    def agregar_producto(self, nombre, precio, cantidad):\n",
    "        for producto in self.inventario:\n",
    "            if producto['nombre'] == nombre:\n",
    "                producto['cantidad'] += cantidad\n",
    "                return\n",
    "        nuevo_producto = {'nombre': nombre, 'precio': f'${precio}', 'cantidad': cantidad}\n",
    "        self.inventario.append(nuevo_producto)\n",
    "\n",
    "    def ver_inventario(self):\n",
    "        for producto in self.inventario:\n",
    "            print(producto)\n",
    "        \n",
    "    def buscar_producto(self, nombre):\n",
    "        for producto in self.inventario:\n",
    "            if producto['nombre'] == nombre:\n",
    "                print(producto)\n",
    "                return\n",
    "            print(\"El producto no se encuentra en el inventario\")\n",
    "        "
   ]
  },
  {
   "cell_type": "code",
   "execution_count": 8,
   "id": "45536778",
   "metadata": {},
   "outputs": [
    {
     "name": "stdout",
     "output_type": "stream",
     "text": [
      "{'nombre': 'Camisa', 'precio': '$20', 'cantidad': 100}\n",
      "{'nombre': 'Pantalón', 'precio': '$30', 'cantidad': 30}\n",
      "{'nombre': 'Zapatos', 'precio': '$50', 'cantidad': 40}\n"
     ]
    }
   ],
   "source": [
    "mitienda.ver_inventario()"
   ]
  },
  {
   "cell_type": "code",
   "execution_count": 9,
   "id": "3e69f5e6",
   "metadata": {},
   "outputs": [
    {
     "name": "stdout",
     "output_type": "stream",
     "text": [
      "{'nombre': 'Camisa', 'precio': '$20', 'cantidad': 100}\n"
     ]
    }
   ],
   "source": [
    "mitienda.buscar_producto(\"Camisa\")"
   ]
  },
  {
   "cell_type": "code",
   "execution_count": 10,
   "id": "b8613ec2",
   "metadata": {},
   "outputs": [
    {
     "name": "stdout",
     "output_type": "stream",
     "text": [
      "El producto no se encuentra en el inventario\n"
     ]
    }
   ],
   "source": [
    "mitienda.buscar_producto(\"Tortuga\")"
   ]
  },
  {
   "cell_type": "markdown",
   "id": "44079d9f",
   "metadata": {},
   "source": [
    "-----------------------------"
   ]
  },
  {
   "cell_type": "code",
   "execution_count": 11,
   "id": "cbb51560",
   "metadata": {},
   "outputs": [
    {
     "name": "stdout",
     "output_type": "stream",
     "text": [
      "{'nombre': 'Pantalón', 'precio': '$30', 'cantidad': 30}\n"
     ]
    }
   ],
   "source": [
    "mitienda.buscar_producto(\"Pantalón\")"
   ]
  },
  {
   "cell_type": "code",
   "execution_count": null,
   "id": "81054ae0",
   "metadata": {},
   "outputs": [],
   "source": [
    "#seguimos con el 4\n",
    "\n",
    "class TiendaOnline:\n",
    "    def __init__(self):\n",
    "        self.inventario = []\n",
    "        self.ventas_totales = 0.0\n",
    "\n",
    "    def agregar_producto(self, nombre, precio, cantidad):\n",
    "        for producto in self.inventario:\n",
    "            if producto['nombre'] == nombre:\n",
    "                producto['cantidad'] += cantidad\n",
    "                return\n",
    "        nuevo_producto = {'nombre': nombre, 'precio': f'${precio}', 'cantidad': cantidad}\n",
    "        self.inventario.append(nuevo_producto)\n",
    "\n",
    "    def ver_inventario(self):\n",
    "        for producto in self.inventario:\n",
    "            print(producto)\n",
    "        \n",
    "    def buscar_producto(self, nombre):\n",
    "        for producto in self.inventario:\n",
    "            if producto['nombre'] == nombre:\n",
    "                print(producto)\n",
    "                return\n",
    "            print(\"El producto no se encuentra en el inventario\")\n",
    "\n",
    "    def actualizar_stock(self, nombre, cantidad):\n",
    "        # Utiliza un bucle for para recorrer el inventario.\n",
    "        for producto in self.inventario:\n",
    "        #Busca el producto por nombre.\n",
    "                if producto['nombre'] == nombre:\n",
    "        #Actualiza la cantidad según la entrada del usuario\n",
    "                        producto['cantidad'] += cantidad #;abajo meto el dicc\n",
    "                        print(f\"Inventario actualizado: {producto['Nombre']} tiene una cantidad actualizada de {producto['cantidad']}\")\n",
    "        #Si el producto no esta en el inventario muestra un mensaje indicándolo.\n",
    "                else:\n",
    "                        print(\"El producto no se encuentra en el inventario\")"
   ]
  },
  {
   "cell_type": "code",
   "execution_count": null,
   "id": "3da47799",
   "metadata": {},
   "outputs": [],
   "source": [
    "def actualizar_stock(self, nombre, cantidad):\n",
    "        # Utiliza un bucle for para recorrer el inventario.\n",
    "        for producto in self.inventario:\n",
    "        #Busca el producto por nombre.\n",
    "                if producto['nombre'] == nombre:\n",
    "        #Actualiza la cantidad según la entrada del usuario\n",
    "                        producto['cantidad'] += cantidad #;abajo meto el dicc\n",
    "                        print(f\"Inventario actualizado: {producto['Nombre']} tiene una cantidad actualizada de {producto['cantidad']}\")\n",
    "        #Si el producto no esta en el inventario muestra un mensaje indicándolo.\n",
    "                else:\n",
    "                        print(\"El producto no se encuentra en el inventario\")"
   ]
  },
  {
   "cell_type": "code",
   "execution_count": 21,
   "id": "147bea33",
   "metadata": {},
   "outputs": [],
   "source": [
    "mitienda = TiendaOnline()\n",
    " \n",
    "mitienda.actualizar_stock(\"Tortuga\", 5)  "
   ]
  },
  {
   "cell_type": "code",
   "execution_count": 24,
   "id": "b86d1a87",
   "metadata": {},
   "outputs": [],
   "source": [
    "mitienda.ver_inventario()"
   ]
  },
  {
   "cell_type": "code",
   "execution_count": 29,
   "id": "e07c0e3f",
   "metadata": {},
   "outputs": [],
   "source": [
    "class TiendaOnline:\n",
    "    def __init__(self):\n",
    "        self.inventario = []\n",
    "        self.ventas_totales = 0.0\n",
    "\n",
    "    def agregar_producto(self, nombre, precio, cantidad):\n",
    "        for producto in self.inventario:\n",
    "            if producto['nombre'] == nombre:\n",
    "                producto['cantidad'] += cantidad\n",
    "                return\n",
    "        nuevo_producto = {'nombre': nombre, 'precio': f'${precio}', 'cantidad': cantidad}\n",
    "        self.inventario.append(nuevo_producto)\n",
    "\n",
    "    def ver_inventario(self):\n",
    "        for producto in self.inventario:\n",
    "            print(producto)\n",
    "\n",
    "    def buscar_producto(self, nombre):\n",
    "        for producto in self.inventario:\n",
    "            if producto['nombre'] == nombre:\n",
    "                print(producto)\n",
    "                return\n",
    "        print(\"El producto no se encuentra en el inventario.\")\n",
    "\n",
    "    def actualizar_stock(self, nombre, cantidad):\n",
    "        for producto in self.inventario:\n",
    "            if producto['nombre'] == nombre:\n",
    "                producto['cantidad'] += cantidad\n",
    "                print(f\"Stock actualizado: {producto['nombre']} ahora tiene {producto['cantidad']} unidades.\")\n",
    "                return\n",
    "        print(f\"El producto '{nombre}' no se encuentra en el inventario.\")"
   ]
  },
  {
   "cell_type": "code",
   "execution_count": 30,
   "id": "b38019b6",
   "metadata": {},
   "outputs": [],
   "source": [
    "mitienda.ver_inventario()"
   ]
  },
  {
   "cell_type": "code",
   "execution_count": 4,
   "id": "73840b14",
   "metadata": {},
   "outputs": [
    {
     "name": "stdout",
     "output_type": "stream",
     "text": [
      "El producto 'Tortuga' no se encuentra en el inventario.\n"
     ]
    }
   ],
   "source": [
    "mitienda = TiendaOnline()\n",
    " \n",
    "mitienda.actualizar_stock(\"Tortuga\", 5)  \n"
   ]
  },
  {
   "cell_type": "code",
   "execution_count": 3,
   "id": "d6cf586b",
   "metadata": {},
   "outputs": [
    {
     "name": "stdout",
     "output_type": "stream",
     "text": [
      "El producto 'Zapatos' no se encuentra en el inventario.\n"
     ]
    }
   ],
   "source": [
    "mitienda = TiendaOnline()\n",
    " \n",
    "mitienda.actualizar_stock(\"Zapatos\", 5)  "
   ]
  },
  {
   "cell_type": "code",
   "execution_count": null,
   "id": "fd9081f2",
   "metadata": {},
   "outputs": [],
   "source": [
    "class TiendaOnline:\n",
    "    def __init__(self):\n",
    "        self.inventario = []\n",
    "        self.ventas_totales = 0.0\n",
    "\n",
    "    def agregar_producto(self, nombre, precio, cantidad):\n",
    "        for producto in self.inventario:\n",
    "            if producto['nombre'] == nombre:\n",
    "                producto['cantidad'] += cantidad\n",
    "                return\n",
    "        nuevo_producto = {'nombre': nombre, 'precio': f'${precio}', 'cantidad': cantidad}\n",
    "        self.inventario.append(nuevo_producto)\n",
    "\n",
    "    def ver_inventario(self):\n",
    "        for producto in self.inventario:\n",
    "            print(producto)\n",
    "\n",
    "    def buscar_producto(self, nombre):\n",
    "        for producto in self.inventario:\n",
    "            if producto['nombre'] == nombre:\n",
    "                print(producto)\n",
    "                return\n",
    "        print(\"El producto no se encuentra en el inventario.\")\n",
    "\n",
    "    def actualizar_stock(self, nombre, cantidad):\n",
    "        for producto in self.inventario:\n",
    "            if producto['nombre'] == nombre:\n",
    "                producto['cantidad'] += cantidad\n",
    "                print(f\"Stock actualizado: {producto['nombre']} ahora tiene {producto['cantidad']} unidades.\")\n",
    "                return\n",
    "        print(f\"El producto '{nombre}' no se encuentra en el inventario.\")"
   ]
  },
  {
   "cell_type": "code",
   "execution_count": null,
   "id": "35ebc3aa",
   "metadata": {},
   "outputs": [],
   "source": [
    "    def eliminar_producto(self, nombre):\n",
    "        for producto in self.inventario:\n",
    "            if producto['nombre'] == nombre:"
   ]
  },
  {
   "cell_type": "code",
   "execution_count": null,
   "id": "8ef52d9d",
   "metadata": {},
   "outputs": [],
   "source": [
    "    def calcular_valor_inventario(self):\n",
    "        #primero defino variable valor total\n",
    "        valor_total = 0.0\n",
    "        # Utiliza un bucle for para calcular el valor total del inventario\n",
    "        for producto in self.inventario:\n",
    "        #el valor de cada producto es precio*cantidad; abajo sumamos\n",
    "            valor_producto = producto['precio']*producto['cantidad']\n",
    "            valor_total + valor_producto\n",
    "        print(f\"El valor total del inventario es ${valor_total}\")"
   ]
  },
  {
   "cell_type": "code",
   "execution_count": 6,
   "id": "21080d05",
   "metadata": {},
   "outputs": [],
   "source": [
    "class TiendaOnline:\n",
    "    def __init__(self):\n",
    "        self.inventario = []\n",
    "        self.ventas_totales = 0.0\n",
    "\n",
    "    def agregar_producto(self, nombre, precio, cantidad):\n",
    "        for producto in self.inventario:\n",
    "            if producto['nombre'] == nombre:\n",
    "                producto['cantidad'] += cantidad\n",
    "                return\n",
    "        nuevo_producto = {'nombre': nombre, 'precio': f'${precio}', 'cantidad': cantidad}\n",
    "        self.inventario.append(nuevo_producto)\n",
    "\n",
    "    def ver_inventario(self):\n",
    "        for producto in self.inventario:\n",
    "            print(producto)\n",
    "\n",
    "    def buscar_producto(self, nombre):\n",
    "        for producto in self.inventario:\n",
    "            if producto['nombre'] == nombre:\n",
    "                print(producto)\n",
    "                return\n",
    "        print(\"El producto no se encuentra en el inventario.\")\n",
    "\n",
    "    def actualizar_stock(self, nombre, cantidad):\n",
    "        for producto in self.inventario:\n",
    "            if producto['nombre'] == nombre:\n",
    "                producto['cantidad'] += cantidad\n",
    "                print(f\"Stock actualizado: {producto['nombre']} ahora tiene {producto['cantidad']} unidades.\")\n",
    "                return\n",
    "        print(f\"El producto '{nombre}' no se encuentra en el inventario.\")\n",
    "\n",
    "    def calcular_valor_inventario(self):\n",
    "        valor_total = 0.0\n",
    "        for producto in self.inventario:\n",
    "            valor_producto = producto['precio']*producto['cantidad']\n",
    "            valor_total + valor_producto\n",
    "        print(f\"El valor total del inventario es ${valor_total}\")"
   ]
  },
  {
   "cell_type": "code",
   "execution_count": 7,
   "id": "eeff4fe8",
   "metadata": {},
   "outputs": [
    {
     "name": "stdout",
     "output_type": "stream",
     "text": [
      "El valor total del inventario es $0.0\n"
     ]
    }
   ],
   "source": [
    "\n",
    "mitienda.calcular_valor_inventario()"
   ]
  },
  {
   "cell_type": "markdown",
   "id": "201afc0c",
   "metadata": {},
   "source": [
    "----------------"
   ]
  },
  {
   "cell_type": "markdown",
   "id": "94024998",
   "metadata": {},
   "source": [
    "intento cambiar todo el codigo para reemplazar el print producto con f-string format "
   ]
  },
  {
   "cell_type": "code",
   "execution_count": null,
   "id": "03a52ad4",
   "metadata": {},
   "outputs": [],
   "source": [
    "f\"nombre: {producto['nombre']}, precio: ${producto['precio']}, cantidad: {producto['cantidad']}\""
   ]
  },
  {
   "cell_type": "code",
   "execution_count": 1,
   "id": "58b0b934",
   "metadata": {},
   "outputs": [],
   "source": [
    "class TiendaOnline:\n",
    "    def __init__(self):\n",
    "        self.inventario = []\n",
    "        self.ventas_totales = 0.0\n",
    "\n",
    "    def agregar_producto(self, nombre, precio, cantidad):\n",
    "        for producto in self.inventario:\n",
    "            if producto['nombre'] == nombre:\n",
    "                producto['cantidad'] += cantidad\n",
    "                return\n",
    "        nuevo_producto = {'nombre': nombre, 'precio': precio, 'cantidad': cantidad}\n",
    "        self.inventario.append(nuevo_producto)\n",
    "\n",
    "    def ver_inventario(self):\n",
    "        for producto in self.inventario:\n",
    "            print(f\"nombre: {producto['nombre']}, precio: ${producto['precio']}, cantidad: {producto['cantidad']}\")"
   ]
  },
  {
   "cell_type": "code",
   "execution_count": 2,
   "id": "245f2ffb",
   "metadata": {},
   "outputs": [
    {
     "name": "stdout",
     "output_type": "stream",
     "text": [
      "nombre: Camisa, precio: $20, cantidad: 50\n",
      "nombre: Pantalón, precio: $30, cantidad: 30\n",
      "nombre: Zapatos, precio: $50, cantidad: 40\n"
     ]
    }
   ],
   "source": [
    "mitienda = TiendaOnline() \n",
    "mitienda.agregar_producto(\"Camisa\", 20, 50)\n",
    "mitienda.agregar_producto(\"Pantalón\", 30, 30)\n",
    "mitienda.agregar_producto(\"Zapatos\", 50, 40)\n",
    "\n",
    "mitienda.ver_inventario()"
   ]
  },
  {
   "cell_type": "code",
   "execution_count": 3,
   "id": "8af0c761",
   "metadata": {},
   "outputs": [],
   "source": [
    "#cambiar en todos y en el borrador final para ver si consigo q me de valor total calculo"
   ]
  },
  {
   "cell_type": "code",
   "execution_count": 4,
   "id": "ef90cd18",
   "metadata": {},
   "outputs": [],
   "source": [
    "#en buscar_producto meter el nombre en el print"
   ]
  },
  {
   "cell_type": "code",
   "execution_count": null,
   "id": "988452bc",
   "metadata": {},
   "outputs": [],
   "source": []
  }
 ],
 "metadata": {
  "kernelspec": {
   "display_name": "base",
   "language": "python",
   "name": "python3"
  },
  "language_info": {
   "codemirror_mode": {
    "name": "ipython",
    "version": 3
   },
   "file_extension": ".py",
   "mimetype": "text/x-python",
   "name": "python",
   "nbconvert_exporter": "python",
   "pygments_lexer": "ipython3",
   "version": "3.12.7"
  }
 },
 "nbformat": 4,
 "nbformat_minor": 5
}
