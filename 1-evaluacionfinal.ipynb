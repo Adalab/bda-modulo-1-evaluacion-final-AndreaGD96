{
 "cells": [
  {
   "cell_type": "markdown",
   "id": "7035fa33",
   "metadata": {},
   "source": [
    "Evaluación Final Módulo 1 Data Analytics"
   ]
  },
  {
   "cell_type": "code",
   "execution_count": 1,
   "id": "c613e42a",
   "metadata": {},
   "outputs": [],
   "source": [
    "# 1 Crear una clase\n",
    "\n",
    "class TiendaOnline:\n",
    "    def __init__(self, inventario, ventas_totales ): #argumentos/atributos: características que tiene un objeto\n",
    "        self.inventario = [] #lista vacia\n",
    "        self.ventas_totales = 0.0 ,#float"
   ]
  },
  {
   "cell_type": "code",
   "execution_count": 2,
   "id": "189c91c7",
   "metadata": {},
   "outputs": [
    {
     "data": {
      "text/plain": [
       "[{'nombre': 'Camisa', 'precio': 20, 'cantidad': 40},\n",
       " {'nombre': 'Pantalón', 'precio': 30, 'cantidad': 30}]"
      ]
     },
     "execution_count": 2,
     "metadata": {},
     "output_type": "execute_result"
    }
   ],
   "source": [
    "inventario = [{'nombre': 'Camisa', 'precio': 20, 'cantidad': 40}, {'nombre': 'Pantalón', 'precio': 30, 'cantidad': 30}] \n",
    "inventario"
   ]
  },
  {
   "cell_type": "markdown",
   "id": "03bdfcbe",
   "metadata": {},
   "source": [
    " La clase TiendaOnline debe tener los siguientes métodos:\n",
    "\n",
    " 1.Agregar_producto(self, nombre, precio, cantidad): Este método agrega un producto al\n",
    " inventario o actualiza su cantidad si ya existe. Debe recibir el nombre, precio y cantidad del producto\n",
    " como parámetros.\n",
    "\n",
    " -Itera a través del inventario y compara los nombres de los productos con el nombre\n",
    " proporcionado.\n",
    "\n",
    " -Si el producto ya existe, actualiza la cantidad.\n",
    " \n",
    " -Si no existe, agrega un nuevo producto al inventario."
   ]
  },
  {
   "cell_type": "code",
   "execution_count": 3,
   "id": "e3e4f07d",
   "metadata": {},
   "outputs": [],
   "source": [
    "#1.1. añadimos primer método con los parametros indicados\n",
    "class TiendaOnline:\n",
    "    def __init__(self, inventario, ventas_totales): \n",
    "        self.inventario = [] \n",
    "        self.ventas_totales = 0.0 \n",
    "\n",
    "    def agregar_producto(self, nombre, precio, cantidad):\n",
    "        #itera a traves del inventario y compara los nombres por lo tanto uso bucle for\n",
    "        for producto in self.inventario:\n",
    "            #si producto ya existe\n",
    "            if producto['Nombre'] == nombre:\n",
    "                #actualiza la cantidad\n",
    "                producto['cantidad'] += cantidad\n",
    "                return\n",
    "            \n",
    "            #Si no existe, agrega un nuevo producto al inventario (defino primero la variable como dicc añadiendo los atributos de los otros productos)\n",
    "\n",
    "        nuevo_producto = {'Nombre': nombre, 'precio': precio, 'cantidad': cantidad}\n",
    "        #hay q añadirlo al diccionario\n",
    "        self.inventario.append(nuevo_producto)\n"
   ]
  },
  {
   "cell_type": "markdown",
   "id": "ed00585e",
   "metadata": {},
   "source": [
    "2.Ver_inventario(self): Muestra el inventario de productos con sus detalles.\n",
    "\n",
    "-Utiliza un bucle for para recorrer el inventario.\n",
    "-Imprime los detalles (nombre, precio, cantidad) de cada producto."
   ]
  },
  {
   "cell_type": "code",
   "execution_count": null,
   "id": "78b568cc",
   "metadata": {},
   "outputs": [],
   "source": [
    "# tiene que aparecerme los dos productos anteriores con la cantidad de camisa actualizada, incluir zapatos, y al final de nuevo las camisas"
   ]
  }
 ],
 "metadata": {
  "kernelspec": {
   "display_name": "base",
   "language": "python",
   "name": "python3"
  },
  "language_info": {
   "codemirror_mode": {
    "name": "ipython",
    "version": 3
   },
   "file_extension": ".py",
   "mimetype": "text/x-python",
   "name": "python",
   "nbconvert_exporter": "python",
   "pygments_lexer": "ipython3",
   "version": "3.12.7"
  }
 },
 "nbformat": 4,
 "nbformat_minor": 5
}
