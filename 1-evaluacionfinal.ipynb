{
 "cells": [
  {
   "cell_type": "markdown",
   "id": "7035fa33",
   "metadata": {},
   "source": [
    "Evaluación Final Módulo 1 Data Analytics"
   ]
  },
  {
   "cell_type": "code",
   "execution_count": 3,
   "id": "c613e42a",
   "metadata": {},
   "outputs": [],
   "source": [
    "# 1 Crear una clase\n",
    "\n",
    "class TiendaOnline:\n",
    "    def __init__(self):\n",
    "        self.inventario = [] #lista vacia\n",
    "        self.ventas_totales = 0.0 ,#float"
   ]
  },
  {
   "cell_type": "markdown",
   "id": "5e12ccdc",
   "metadata": {},
   "source": [
    "---------------------------"
   ]
  },
  {
   "cell_type": "markdown",
   "id": "03bdfcbe",
   "metadata": {},
   "source": [
    " Métodos:\n",
    "\n",
    " 1.Agregar_producto(self, nombre, precio, cantidad):"
   ]
  },
  {
   "cell_type": "code",
   "execution_count": null,
   "id": "a6d1a149",
   "metadata": {},
   "outputs": [],
   "source": [
    "#añadimos primer método con los parametros indicados\n",
    "    def agregar_producto(self, nombre, precio, cantidad):\n",
    "        #itera a traves del inventario y compara los nombres por lo tanto uso bucle for\n",
    "        for producto in self.inventario:\n",
    "            #si producto ya existe\n",
    "            if producto['Nombre'] == nombre:\n",
    "                #actualiza la cantidad\n",
    "                producto['cantidad'] += cantidad\n",
    "                return\n",
    "            \n",
    "            #Si no existe, agrega un nuevo producto al inventario (defino primero la variable como dicc añadiendo los atributos de los otros productos)\n",
    "\n",
    "        nuevo_producto = {'Nombre': nombre, 'precio': f'${precio}', 'cantidad': cantidad}\n",
    "        #hay q añadirlo al diccionario\n",
    "        self.inventario.append(nuevo_producto)"
   ]
  },
  {
   "cell_type": "markdown",
   "id": "0d69825a",
   "metadata": {},
   "source": [
    "-----------------------------------"
   ]
  },
  {
   "cell_type": "markdown",
   "id": "8bba946f",
   "metadata": {},
   "source": [
    "2.ver_inventario(self)"
   ]
  },
  {
   "cell_type": "code",
   "execution_count": null,
   "id": "0281b2f7",
   "metadata": {},
   "outputs": [],
   "source": [
    "def ver_inventario(self):\n",
    "        # Utiliza un bucle for para recorrer el inventario\n",
    "        for producto in self.inventario:\n",
    "            #Imprime los detalles de cada producto.\n",
    "            print(producto)"
   ]
  },
  {
   "cell_type": "code",
   "execution_count": 6,
   "id": "e3e4f07d",
   "metadata": {},
   "outputs": [],
   "source": [
    "class TiendaOnline:\n",
    "    def __init__(self): \n",
    "        self.inventario = [] \n",
    "        self.ventas_totales = 0.0 \n",
    "        \n",
    "#1.1. añadimos primer método con los parametros indicados\n",
    "    def agregar_producto(self, nombre, precio, cantidad):\n",
    "        #itera a traves del inventario y compara los nombres por lo tanto uso bucle for\n",
    "        for producto in self.inventario:\n",
    "            #si producto ya existe\n",
    "            if producto['Nombre'] == nombre:\n",
    "                #actualiza la cantidad\n",
    "                producto['cantidad'] += cantidad\n",
    "                return\n",
    "            \n",
    "            #Si no existe, agrega un nuevo producto al inventario (defino primero la variable como dicc añadiendo los atributos de los otros productos)\n",
    "\n",
    "        nuevo_producto = {'Nombre': nombre, 'precio': f'${precio}', 'cantidad': cantidad}\n",
    "        #hay q añadirlo al diccionario\n",
    "        self.inventario.append(nuevo_producto)\n",
    "\n",
    "    def ver_inventario(self):\n",
    "        # Utiliza un bucle for para recorrer el inventario\n",
    "        for producto in self.inventario:\n",
    "            #Imprime los detalles de cada producto.\n",
    "            print(producto)\n"
   ]
  },
  {
   "cell_type": "markdown",
   "id": "18992da1",
   "metadata": {},
   "source": [
    "---------------------------------------------------"
   ]
  },
  {
   "cell_type": "code",
   "execution_count": null,
   "id": "653fe436",
   "metadata": {},
   "outputs": [],
   "source": [
    "#borrando anotaciones:\n",
    "\n",
    "class TiendaOnline:\n",
    "    def __init__(self):\n",
    "        self.inventario = []\n",
    "        self.ventas_totales = 0.0\n",
    "\n",
    "    def agregar_producto(self, nombre, precio, cantidad):\n",
    "        for producto in self.inventario:\n",
    "            if producto['nombre'] == nombre:\n",
    "                producto['cantidad'] += cantidad\n",
    "                return\n",
    "        nuevo_producto = {'nombre': nombre, 'precio': f'${precio}', 'cantidad': cantidad}\n",
    "        self.inventario.append(nuevo_producto)\n",
    "\n",
    "    def ver_inventario(self):\n",
    "        for producto in self.inventario:\n",
    "            print(producto)"
   ]
  },
  {
   "cell_type": "markdown",
   "id": "8889165c",
   "metadata": {},
   "source": [
    "testeo el inventario:"
   ]
  },
  {
   "cell_type": "code",
   "execution_count": 8,
   "id": "69b297d6",
   "metadata": {},
   "outputs": [
    {
     "name": "stdout",
     "output_type": "stream",
     "text": [
      "{'Nombre': 'Camisa', 'precio': '$20', 'cantidad': 50}\n",
      "{'Nombre': 'Pantalón', 'precio': '$30', 'cantidad': 30}\n",
      "{'Nombre': 'Zapatos', 'precio': '$50', 'cantidad': 40}\n"
     ]
    }
   ],
   "source": [
    "mitienda = TiendaOnline() \n",
    "mitienda.agregar_producto(\"Camisa\", 20, 50)\n",
    "mitienda.agregar_producto(\"Pantalón\", 30, 30)\n",
    "mitienda.agregar_producto(\"Zapatos\", 50, 40)\n",
    "\n",
    "mitienda.ver_inventario()\n",
    "#me deberia aparecer tambien camisetas de nuevo al final segun el ejercicio pero con lo que llevo no me sale"
   ]
  },
  {
   "cell_type": "code",
   "execution_count": null,
   "id": "d75ec515",
   "metadata": {},
   "outputs": [],
   "source": []
  }
 ],
 "metadata": {
  "kernelspec": {
   "display_name": "base",
   "language": "python",
   "name": "python3"
  },
  "language_info": {
   "codemirror_mode": {
    "name": "ipython",
    "version": 3
   },
   "file_extension": ".py",
   "mimetype": "text/x-python",
   "name": "python",
   "nbconvert_exporter": "python",
   "pygments_lexer": "ipython3",
   "version": "3.12.7"
  }
 },
 "nbformat": 4,
 "nbformat_minor": 5
}
