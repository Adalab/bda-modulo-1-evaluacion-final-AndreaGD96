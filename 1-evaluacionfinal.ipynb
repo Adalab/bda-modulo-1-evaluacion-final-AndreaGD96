{
 "cells": [
  {
   "cell_type": "markdown",
   "id": "7035fa33",
   "metadata": {},
   "source": [
    "Evaluación Final Módulo 1 Data Analytics"
   ]
  },
  {
   "cell_type": "code",
   "execution_count": 1,
   "id": "c613e42a",
   "metadata": {},
   "outputs": [],
   "source": [
    "# 1 Crear una clase con dos atributos\n",
    "\n",
    "class TiendaOnline:\n",
    "    def __init__(self):\n",
    "        self.inventario = [] #lista vacia\n",
    "        self.ventas_totales = 0.0 ,#float"
   ]
  },
  {
   "cell_type": "markdown",
   "id": "5e12ccdc",
   "metadata": {},
   "source": [
    "---------------------------"
   ]
  },
  {
   "cell_type": "markdown",
   "id": "03bdfcbe",
   "metadata": {},
   "source": [
    " Métodos:\n",
    "\n",
    " 1.Agregar_producto(self, nombre, precio, cantidad):"
   ]
  },
  {
   "cell_type": "code",
   "execution_count": null,
   "id": "a6d1a149",
   "metadata": {},
   "outputs": [],
   "source": [
    "#añadimos primer método con los parametros indicados\n",
    "    def agregar_producto(self, nombre, precio, cantidad):\n",
    "        #itera a traves del inventario y compara los nombres por lo tanto uso bucle for\n",
    "        for producto in self.inventario:\n",
    "            #si producto ya existe\n",
    "            if producto['nombre'] == nombre:\n",
    "                #actualiza la cantidad\n",
    "                producto['cantidad'] += cantidad\n",
    "                return\n",
    "            \n",
    "            #Si no existe, agrega un nuevo producto al inventario (defino primero la variable como dicc añadiendo los atributos de los otros productos)\n",
    "\n",
    "        nuevo_producto = {'nombre': nombre, 'precio': f'${precio}', 'cantidad': cantidad}\n",
    "        #hay q añadirlo al diccionario\n",
    "        self.inventario.append(nuevo_producto)"
   ]
  },
  {
   "cell_type": "markdown",
   "id": "0d69825a",
   "metadata": {},
   "source": [
    "-----------------------------------"
   ]
  },
  {
   "cell_type": "markdown",
   "id": "8bba946f",
   "metadata": {},
   "source": [
    "2.ver_inventario(self)"
   ]
  },
  {
   "cell_type": "code",
   "execution_count": 2,
   "id": "0281b2f7",
   "metadata": {},
   "outputs": [],
   "source": [
    "def ver_inventario(self):\n",
    "        # Utiliza un bucle for para recorrer el inventario\n",
    "        for producto in self.inventario:\n",
    "            #Imprime los detalles de cada producto.\n",
    "            print(producto)"
   ]
  },
  {
   "cell_type": "code",
   "execution_count": 2,
   "id": "e3e4f07d",
   "metadata": {},
   "outputs": [],
   "source": [
    "class TiendaOnline:\n",
    "    def __init__(self): \n",
    "        self.inventario = [] \n",
    "        self.ventas_totales = 0.0 \n",
    "        \n",
    "#1.1. añadimos primer método con los parametros indicados\n",
    "    def agregar_producto(self, nombre, precio, cantidad):\n",
    "        #itera a traves del inventario y compara los nombres por lo tanto uso bucle for\n",
    "        for producto in self.inventario:\n",
    "            #si producto ya existe\n",
    "            if producto['nombre'] == nombre:\n",
    "                #actualiza la cantidad\n",
    "                producto['cantidad'] += cantidad\n",
    "                return\n",
    "            \n",
    "            #Si no existe, agrega un nuevo producto al inventario (defino primero la variable como dicc añadiendo los atributos de los otros productos)\n",
    "\n",
    "        nuevo_producto = {'nombre': nombre, 'precio': f'${precio}', 'cantidad': cantidad}\n",
    "        #hay q añadirlo al diccionario\n",
    "        self.inventario.append(nuevo_producto)\n",
    "\n",
    "    def ver_inventario(self):\n",
    "        # Utiliza un bucle for para recorrer el inventario\n",
    "        for producto in self.inventario:\n",
    "            #Imprime los detalles de cada producto.\n",
    "            print(producto)\n"
   ]
  },
  {
   "cell_type": "markdown",
   "id": "18992da1",
   "metadata": {},
   "source": [
    "---------------------------------------------------"
   ]
  },
  {
   "cell_type": "code",
   "execution_count": 2,
   "id": "653fe436",
   "metadata": {},
   "outputs": [],
   "source": [
    "#borrando anotaciones:\n",
    "\n",
    "class TiendaOnline:\n",
    "    def __init__(self):\n",
    "        self.inventario = []\n",
    "        self.ventas_totales = 0.0\n",
    "\n",
    "    def agregar_producto(self, nombre, precio, cantidad):\n",
    "        for producto in self.inventario:\n",
    "            if producto['nombre'] == nombre:\n",
    "                producto['cantidad'] += cantidad\n",
    "                return\n",
    "        nuevo_producto = {'nombre': nombre, 'precio': f'${precio}', 'cantidad': cantidad}\n",
    "        self.inventario.append(nuevo_producto)\n",
    "\n",
    "    def ver_inventario(self):\n",
    "        for producto in self.inventario:\n",
    "            print(producto)"
   ]
  },
  {
   "cell_type": "markdown",
   "id": "8889165c",
   "metadata": {},
   "source": [
    "testeo el inventario:"
   ]
  },
  {
   "cell_type": "code",
   "execution_count": 7,
   "id": "69b297d6",
   "metadata": {},
   "outputs": [
    {
     "name": "stdout",
     "output_type": "stream",
     "text": [
      "{'nombre': 'Camisa', 'precio': '$20', 'cantidad': 50}\n",
      "{'nombre': 'Pantalón', 'precio': '$30', 'cantidad': 30}\n",
      "{'nombre': 'Zapatos', 'precio': '$50', 'cantidad': 40}\n"
     ]
    }
   ],
   "source": [
    "mitienda = TiendaOnline() \n",
    "mitienda.agregar_producto(\"Camisa\", 20, 50)\n",
    "mitienda.agregar_producto(\"Pantalón\", 30, 30)\n",
    "mitienda.agregar_producto(\"Zapatos\", 50, 40)\n",
    "\n",
    "mitienda.ver_inventario()\n",
    "#me deberia aparecer tambien camisetas de nuevo al final segun el ejercicio pero con lo que llevo no me sale"
   ]
  },
  {
   "cell_type": "markdown",
   "id": "35c0db44",
   "metadata": {},
   "source": [
    "---------------------------------"
   ]
  },
  {
   "cell_type": "markdown",
   "id": "445e53b4",
   "metadata": {},
   "source": [
    "3.buscar_producto(self, nombre)"
   ]
  },
  {
   "cell_type": "code",
   "execution_count": 3,
   "id": "d75ec515",
   "metadata": {},
   "outputs": [],
   "source": [
    "\n",
    "    def buscar_producto(self, nombre):\n",
    "        #Utiliza un bucle for para recorrer el inventario\n",
    "        for producto in self.inventario:\n",
    "            #Compara los nombres de los productos con el nombre proporcionado.\n",
    "            if producto['nombre'] == nombre:\n",
    "                #si encuentra el producto, imprime sus detalles;paro el bucle\n",
    "                print(producto)\n",
    "                return\n",
    "        #si no lo encuentra:\n",
    "        else:\n",
    "            print(\"El producto no se encuentra en el inventario\")"
   ]
  },
  {
   "cell_type": "code",
   "execution_count": 4,
   "id": "554b3731",
   "metadata": {},
   "outputs": [],
   "source": [
    "class TiendaOnline:\n",
    "    def __init__(self):\n",
    "        self.inventario = []\n",
    "        self.ventas_totales = 0.0\n",
    "\n",
    "    def agregar_producto(self, nombre, precio, cantidad):\n",
    "        for producto in self.inventario:\n",
    "            if producto['nombre'] == nombre:\n",
    "                producto['cantidad'] += cantidad\n",
    "                return\n",
    "        nuevo_producto = {'nombre': nombre, 'precio': f'${precio}', 'cantidad': cantidad}\n",
    "        self.inventario.append(nuevo_producto)\n",
    "\n",
    "    def ver_inventario(self):\n",
    "        for producto in self.inventario:\n",
    "            print(producto)\n",
    "        \n",
    "    def buscar_producto(self, nombre):\n",
    "        for producto in self.inventario:\n",
    "            if producto['nombre'] == nombre:\n",
    "                print(producto)\n",
    "                return\n",
    "        else:\n",
    "            print(\"El producto no se encuentra en el inventario\")"
   ]
  },
  {
   "cell_type": "code",
   "execution_count": 8,
   "id": "ec880a1e",
   "metadata": {},
   "outputs": [
    {
     "name": "stdout",
     "output_type": "stream",
     "text": [
      "{'nombre': 'Camisa', 'precio': '$20', 'cantidad': 50}\n",
      "{'nombre': 'Pantalón', 'precio': '$30', 'cantidad': 30}\n",
      "{'nombre': 'Zapatos', 'precio': '$50', 'cantidad': 40}\n",
      "{'nombre': 'Camisa', 'precio': '$20', 'cantidad': 50}\n"
     ]
    }
   ],
   "source": [
    "mitienda.ver_inventario()\n",
    "mitienda.buscar_producto(\"Camisa\")\n",
    "#testeo si funciona con un producto q no está"
   ]
  },
  {
   "cell_type": "code",
   "execution_count": 9,
   "id": "ee3751fb",
   "metadata": {},
   "outputs": [
    {
     "name": "stdout",
     "output_type": "stream",
     "text": [
      "El producto no se encuentra en el inventario.\n"
     ]
    }
   ],
   "source": [
    "mitienda.buscar_producto(\"Tortuga\")"
   ]
  },
  {
   "cell_type": "markdown",
   "id": "47f639e9",
   "metadata": {},
   "source": [
    "----------------------------------------"
   ]
  },
  {
   "cell_type": "markdown",
   "id": "21e1266f",
   "metadata": {},
   "source": [
    " 4.actualizar_stock(self, nombre, cantidad)"
   ]
  },
  {
   "cell_type": "code",
   "execution_count": 9,
   "id": "8ba936e3",
   "metadata": {},
   "outputs": [],
   "source": [
    "def actualizar_stock(self, nombre, cantidad):\n",
    "        # Utiliza un bucle for para recorrer el inventario.\n",
    "        for producto in self.inventario:\n",
    "            #Busca el producto por nombre.\n",
    "            if producto['nombre'] == nombre:\n",
    "                #Actualiza la cantidad según la entrada del usuario\n",
    "                producto['cantidad'] += cantidad\n",
    "                print(f\"Stock actualizado: {producto['nombre']} ahora tiene {producto['cantidad']} unidades.\")\n",
    "                return\n",
    "            #Si el producto no esta en el inventario muestra un mensaje indicándolo.\n",
    "        print(f\"El producto '{nombre}' no se encuentra en el inventario.\")"
   ]
  },
  {
   "cell_type": "code",
   "execution_count": 5,
   "id": "ad48cff9",
   "metadata": {},
   "outputs": [],
   "source": [
    "class TiendaOnline:\n",
    "    def __init__(self):\n",
    "        self.inventario = []\n",
    "        self.ventas_totales = 0.0\n",
    "\n",
    "    def agregar_producto(self, nombre, precio, cantidad):\n",
    "        for producto in self.inventario:\n",
    "            if producto['nombre'] == nombre:\n",
    "                producto['cantidad'] += cantidad\n",
    "                return\n",
    "        nuevo_producto = {'nombre': nombre, 'precio': f'${precio}', 'cantidad': cantidad}\n",
    "        self.inventario.append(nuevo_producto)\n",
    "\n",
    "    def ver_inventario(self):\n",
    "        for producto in self.inventario:\n",
    "            print(producto)\n",
    "\n",
    "    def buscar_producto(self, nombre):\n",
    "        for producto in self.inventario:\n",
    "            if producto['nombre'] == nombre:\n",
    "                print(producto)\n",
    "                return\n",
    "        print(\"El producto no se encuentra en el inventario.\")\n",
    "\n",
    "    def actualizar_stock(self, nombre, cantidad):\n",
    "        for producto in self.inventario:\n",
    "            if producto['nombre'] == nombre:\n",
    "                producto['cantidad'] += cantidad\n",
    "                print(f\"Stock actualizado: {producto['nombre']} ahora tiene {producto['cantidad']} unidades.\")\n",
    "                return\n",
    "        print(f\"El producto '{nombre}' no se encuentra en el inventario.\")"
   ]
  },
  {
   "cell_type": "code",
   "execution_count": 9,
   "id": "8b89c20f",
   "metadata": {},
   "outputs": [
    {
     "name": "stdout",
     "output_type": "stream",
     "text": [
      "{'nombre': 'Camisa', 'precio': '$20', 'cantidad': 100}\n",
      "{'nombre': 'Pantalón', 'precio': '$30', 'cantidad': 30}\n",
      "{'nombre': 'Zapatos', 'precio': '$50', 'cantidad': 40}\n"
     ]
    }
   ],
   "source": [
    "mitienda.agregar_producto(\"Camisa\", 20, 50)\n",
    "mitienda.ver_inventario()"
   ]
  },
  {
   "cell_type": "code",
   "execution_count": 10,
   "id": "577074e2",
   "metadata": {},
   "outputs": [
    {
     "name": "stdout",
     "output_type": "stream",
     "text": [
      "Stock actualizado: Camisa ahora tiene 90 unidades.\n"
     ]
    }
   ],
   "source": [
    "#testeo\n",
    "mitienda.actualizar_stock(\"Camisa\", -10)\n",
    "\n"
   ]
  },
  {
   "cell_type": "code",
   "execution_count": 14,
   "id": "96d47f12",
   "metadata": {},
   "outputs": [
    {
     "name": "stdout",
     "output_type": "stream",
     "text": [
      "El producto 'Tortugas' no se encuentra en el inventario.\n"
     ]
    }
   ],
   "source": [
    "mitienda.actualizar_stock(\"Tortugas\", 10)"
   ]
  },
  {
   "cell_type": "markdown",
   "id": "8e8708ca",
   "metadata": {},
   "source": [
    "---------------------------------------"
   ]
  },
  {
   "cell_type": "markdown",
   "id": "f1abb419",
   "metadata": {},
   "source": [
    "5.eliminar_producto(self,nombre)"
   ]
  },
  {
   "cell_type": "code",
   "execution_count": 26,
   "id": "3061016a",
   "metadata": {},
   "outputs": [],
   "source": [
    "    def eliminar_producto (self,nombre):\n",
    "        #Utiliza un bucle for para recorrer el inventario.\n",
    "        for producto in self.inventario:\n",
    "            # Busca el producto por nombre\n",
    "            if producto ['nombre'] == nombre: \n",
    "            # Elimina el producto del inventario si existe.\n",
    "                self.inventario.remove(producto) \n",
    "                print(f'Producto {nombre} eliminado') \n",
    "                return\n",
    "            # Si el producto no esta en el inventario muestra un mensaje indicándolo\n",
    "        print(f'El producto {nombre} no está en el inventario') "
   ]
  },
  {
   "cell_type": "code",
   "execution_count": 6,
   "id": "62ea0e62",
   "metadata": {},
   "outputs": [],
   "source": [
    "class TiendaOnline:\n",
    "    def __init__(self):\n",
    "        self.inventario = []\n",
    "        self.ventas_totales = 0.0\n",
    "\n",
    "    def agregar_producto(self, nombre, precio, cantidad):\n",
    "        for producto in self.inventario:\n",
    "            if producto['nombre'] == nombre:\n",
    "                producto['cantidad'] += cantidad\n",
    "                return\n",
    "        nuevo_producto = {'nombre': nombre, 'precio': f'${precio}', 'cantidad': cantidad}\n",
    "        self.inventario.append(nuevo_producto)\n",
    "\n",
    "    def ver_inventario(self):\n",
    "        for producto in self.inventario:\n",
    "            print(producto)\n",
    "\n",
    "    def buscar_producto(self, nombre):\n",
    "        for producto in self.inventario:\n",
    "            if producto['nombre'] == nombre:\n",
    "                print(producto)\n",
    "                return\n",
    "        print(\"El producto no se encuentra en el inventario.\")\n",
    "\n",
    "    def actualizar_stock(self, nombre, cantidad):\n",
    "        for producto in self.inventario:\n",
    "            if producto['nombre'] == nombre:\n",
    "                producto['cantidad'] += cantidad\n",
    "                print(f\"Stock actualizado: {producto['nombre']} ahora tiene {producto['cantidad']} unidades.\")\n",
    "                return\n",
    "        print(f\"El producto '{nombre}' no se encuentra en el inventario.\")\n",
    "\n",
    "    def eliminar_producto (self,nombre):\n",
    "        for producto in self.inventario:\n",
    "            if producto ['nombre'] == nombre: \n",
    "                self.inventario.remove(producto) \n",
    "                print(f'Producto {nombre} eliminado') \n",
    "                return\n",
    "        print(f'El producto {nombre} no está en el inventario') "
   ]
  },
  {
   "cell_type": "code",
   "execution_count": 11,
   "id": "73c83336",
   "metadata": {},
   "outputs": [
    {
     "name": "stdout",
     "output_type": "stream",
     "text": [
      "Producto Pantalón eliminado\n"
     ]
    }
   ],
   "source": [
    "mitienda.eliminar_producto(\"Pantalón\")"
   ]
  },
  {
   "cell_type": "code",
   "execution_count": 16,
   "id": "ae787427",
   "metadata": {},
   "outputs": [
    {
     "name": "stdout",
     "output_type": "stream",
     "text": [
      "El producto Tortugas no está en el inventario\n"
     ]
    }
   ],
   "source": [
    "mitienda.eliminar_producto(\"Tortugas\")"
   ]
  },
  {
   "cell_type": "code",
   "execution_count": 12,
   "id": "fe54d0b6",
   "metadata": {},
   "outputs": [
    {
     "name": "stdout",
     "output_type": "stream",
     "text": [
      "{'nombre': 'Camisa', 'precio': '$20', 'cantidad': 90}\n",
      "{'nombre': 'Zapatos', 'precio': '$50', 'cantidad': 40}\n"
     ]
    }
   ],
   "source": [
    "#confirmo que se elimino el producto indicado\n",
    "mitienda.ver_inventario()"
   ]
  },
  {
   "cell_type": "markdown",
   "id": "7e0467c8",
   "metadata": {},
   "source": [
    "------------------------------------------"
   ]
  },
  {
   "cell_type": "markdown",
   "id": "d45b2914",
   "metadata": {},
   "source": [
    "6.calcular_valor_inventario(self)"
   ]
  },
  {
   "cell_type": "code",
   "execution_count": 41,
   "id": "ccc13153",
   "metadata": {},
   "outputs": [],
   "source": [
    "    def calcular_valor_inventario(self):\n",
    "        #primero defino variable valor total\n",
    "        valor_total = 0.0\n",
    "        # Utiliza un bucle for para calcular el valor total del inventario\n",
    "        for producto in self.inventario:\n",
    "        #el valor de cada producto es precio*cantidad; abajo sumamos\n",
    "            valor_producto = producto['precio']*producto['cantidad']\n",
    "            valor_total + valor_producto\n",
    "        print(f\"El valor total del inventario es ${valor_total}\")"
   ]
  },
  {
   "cell_type": "code",
   "execution_count": 19,
   "id": "1ecf6527",
   "metadata": {},
   "outputs": [],
   "source": [
    "#borrando indicaciones \n",
    "\n",
    "class TiendaOnline:\n",
    "    def __init__(self):\n",
    "        self.inventario = []\n",
    "        self.ventas_totales = 0.0\n",
    "\n",
    "    def agregar_producto(self, nombre, precio, cantidad):\n",
    "        for producto in self.inventario:\n",
    "            if producto['nombre'] == nombre:\n",
    "                producto['cantidad'] += cantidad\n",
    "                return\n",
    "        nuevo_producto = {'nombre': nombre, 'precio': f'${precio}', 'cantidad': cantidad}\n",
    "        self.inventario.append(nuevo_producto)\n",
    "\n",
    "    def ver_inventario(self):\n",
    "        for producto in self.inventario:\n",
    "            print(producto)\n",
    "\n",
    "    def buscar_producto(self, nombre):\n",
    "        for producto in self.inventario:\n",
    "            if producto['nombre'] == nombre:\n",
    "                print(producto)\n",
    "                return\n",
    "        print(\"El producto no se encuentra en el inventario.\")\n",
    "\n",
    "    def actualizar_stock(self, nombre, cantidad):\n",
    "        for producto in self.inventario:\n",
    "            if producto['nombre'] == nombre:\n",
    "                producto['cantidad'] += cantidad\n",
    "                print(f\"Stock actualizado: {producto['nombre']} ahora tiene {producto['cantidad']} unidades.\")\n",
    "                return\n",
    "        print(f\"El producto '{nombre}' no se encuentra en el inventario.\")\n",
    "\n",
    "    def calcular_valor_inventario(self):\n",
    "        valor_total = 0.0\n",
    "        for producto in self.inventario:\n",
    "            valor_producto = producto['precio']*producto['cantidad']\n",
    "            valor_total += valor_producto\n",
    "        print(f\"El valor total del inventario es ${valor_total}\")\n"
   ]
  },
  {
   "cell_type": "code",
   "execution_count": null,
   "id": "c8538c14",
   "metadata": {},
   "outputs": [
    {
     "ename": "AttributeError",
     "evalue": "'TiendaOnline' object has no attribute 'calcular_valor_inventario'",
     "output_type": "error",
     "traceback": [
      "\u001b[1;31m---------------------------------------------------------------------------\u001b[0m",
      "\u001b[1;31mAttributeError\u001b[0m                            Traceback (most recent call last)",
      "Cell \u001b[1;32mIn[13], line 1\u001b[0m\n\u001b[1;32m----> 1\u001b[0m mitienda\u001b[38;5;241m.\u001b[39mcalcular_valor_inventario()\n",
      "\u001b[1;31mAttributeError\u001b[0m: 'TiendaOnline' object has no attribute 'calcular_valor_inventario'"
     ]
    }
   ],
   "source": [
    "#este no he logrado que funcione\n",
    "\n",
    "mitienda.calcular_valor_inventario()"
   ]
  }
 ],
 "metadata": {
  "kernelspec": {
   "display_name": "base",
   "language": "python",
   "name": "python3"
  },
  "language_info": {
   "codemirror_mode": {
    "name": "ipython",
    "version": 3
   },
   "file_extension": ".py",
   "mimetype": "text/x-python",
   "name": "python",
   "nbconvert_exporter": "python",
   "pygments_lexer": "ipython3",
   "version": "3.12.7"
  }
 },
 "nbformat": 4,
 "nbformat_minor": 5
}
